{
 "cells": [
  {
   "cell_type": "markdown",
   "metadata": {},
   "source": [
    "# Using acrg_CAMS_BC"
   ]
  },
  {
   "cell_type": "code",
   "execution_count": 1,
   "metadata": {},
   "outputs": [],
   "source": [
    "import os\n",
    "from acrg_BC.BC_CAMS import makeCAMSBC\n",
    "from acrg_config.paths import paths\n",
    "\n",
    "data_path      = paths.data\n",
    "cams_directory = os.path.join(data_path, 'ECMWF_CAMS', 'CAMS_inversion/')"
   ]
  },
  {
   "cell_type": "markdown",
   "metadata": {},
   "source": [
    "Before we create our boundary condition files we must define the dates, domain, and gas species which we are interested.\n",
    "\n",
    "We can also provide a path to a directory in which we will store the boundary conditions.\n",
    "If we don't provide a path the BC files will automatically save into `<data_path>/LPDM/bc/<domain>`"
   ]
  },
  {
   "cell_type": "code",
   "execution_count": 2,
   "metadata": {},
   "outputs": [],
   "source": [
    "start   = \"2015-01-01\"\n",
    "end     = \"2017-01-01\"\n",
    "\n",
    "domain  = \"EUROPE\"\n",
    "species = 'ch4'\n",
    "\n",
    "user    = os.getenv('USER')\n",
    "outdir  = os.path.join('/work', user, 'LPDM', 'bc', domain.upper())"
   ]
  },
  {
   "cell_type": "markdown",
   "metadata": {},
   "source": [
    "# 1. Create Boundary Conditions\n",
    "\n",
    "First we're going to create boundary conditions from existing CAMS inversions.\n",
    "\n",
    "Note: if you have already produced boundary condition files in your output directory you will be asked whether you want to overwrite these. This will be asked for every file being written unless you use the tag `overwrite = True`, in which case all existing boundary condition files in the output directory for the gas species, domain, and date range given will automatically be overwritten."
   ]
  },
  {
   "cell_type": "code",
   "execution_count": 3,
   "metadata": {
    "scrolled": true
   },
   "outputs": [
    {
     "name": "stdout",
     "output_type": "stream",
     "text": [
      "Using footprint file: /work/chxmr/shared/LPDM/fp_NAME/EUROPE/HFD-UKV-100magl-rn_EUROPE_202001.nc to extract domain\n",
      "Finding files in range: 2015-01-01 - 2017-01-01 in directory /work/chxmr/shared/ECMWF_CAMS/CAMS_inversion/ using search string cams73_latest_ch4*.nc\n"
     ]
    }
   ],
   "source": [
    "cams_bc = makeCAMSBC(domain         = domain,\n",
    "                     start          = start,\n",
    "                     end            = end,\n",
    "                     species        = species,\n",
    "                     outdir         = outdir,\n",
    "                     cams_directory = cams_directory,\n",
    "                     overwrite      = False)"
   ]
  },
  {
   "cell_type": "markdown",
   "metadata": {},
   "source": [
    "# 2. Create Boundary Conditions from Climatologies\n",
    "\n",
    "Next, if we are missing inversions for any time period we can create boundary conditions from climatologies.\\\n",
    "We provide a start and end date between which the CAMS inversions will be averaged to create a climatology.\\\n",
    "We use the same function as before to create our boundary conditions, providing it with `make_climatology=True`: this will automatically make a climatology for us amd use this to produce our BCs."
   ]
  },
  {
   "cell_type": "code",
   "execution_count": 4,
   "metadata": {
    "scrolled": true
   },
   "outputs": [
    {
     "name": "stdout",
     "output_type": "stream",
     "text": [
      "Using footprint file: /work/chxmr/shared/LPDM/fp_NAME/EUROPE/HFD-UKV-100magl-rn_EUROPE_202001.nc to extract domain\n",
      "Finding files in range: 2010-01-01 - 2015-01-01 in directory /work/chxmr/shared/ECMWF_CAMS/CAMS_inversion/ using search string cams73_latest_ch4*.nc\n"
     ]
    }
   ],
   "source": [
    "data_path      = paths.data\n",
    "cams_directory = os.path.join(data_path, 'ECMWF_CAMS', 'CAMS_inversion/')\n",
    "\n",
    "clim_start       = '2010-01-01'\n",
    "clim_end         = '2015-01-01'\n",
    "make_climatology = True\n",
    "\n",
    "cams_bc = makeCAMSBC(domain           = domain,\n",
    "                     start            = start,\n",
    "                     end              = end,\n",
    "                     species          = species,\n",
    "                     outdir           = outdir,\n",
    "                     cams_directory   = cams_directory,\n",
    "                     clim_start       = clim_start,\n",
    "                     clim_end         = clim_end,\n",
    "                     make_climatology = make_climatology)"
   ]
  }
 ],
 "metadata": {
  "kernelspec": {
   "display_name": "Python 3",
   "language": "python",
   "name": "python3"
  },
  "language_info": {
   "codemirror_mode": {
    "name": "ipython",
    "version": 3
   },
   "file_extension": ".py",
   "mimetype": "text/x-python",
   "name": "python",
   "nbconvert_exporter": "python",
   "pygments_lexer": "ipython3",
   "version": "3.8.6"
  }
 },
 "nbformat": 4,
 "nbformat_minor": 4
}
