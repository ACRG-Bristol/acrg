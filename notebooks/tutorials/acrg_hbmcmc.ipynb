{
 "cells": [
  {
   "cell_type": "markdown",
   "metadata": {},
   "source": [
    "# Tutorial for HBMCMC code"
   ]
  },
  {
   "cell_type": "markdown",
   "metadata": {},
   "source": [
    "The set of modules in acrg_hbmcmc allow a convenient way to perform 'hierachical Bayesian MCMC'. \\\n",
    "That is, we want to infer emissions of a partiular species (and the influence from the domain boundary) using a Markov Chain Monte Carlo algorithm. The 'hierarchy' is that this depends on 'hyperparameters', which are generally the uncertainties in the non-latent parameters involved in the estimation (i.e. not those we are trying to derive – the emissions – but others that are necessary, e.g. the measurement error). \\\n",
    "For a work-in-progress introuction to inverse modelling see: https://www.overleaf.com/project/5f8d6217aeca1900019a84ce "
   ]
  },
  {
   "cell_type": "markdown",
   "metadata": {},
   "source": [
    "The code within acrg_hbmcmc relies heavily on other code in the ACRG repository, mainly name.py in acrg_name. This code is generally used to read footprints, a priori emissions etc from the ACRG directory structure. \\\n",
    "Currently the MCMC estimation is completed using the pymc3 library (see https://docs.pymc.io/), a well-established statistical library."
   ]
  },
  {
   "cell_type": "markdown",
   "metadata": {},
   "source": [
    "## Running the code"
   ]
  },
  {
   "cell_type": "markdown",
   "metadata": {},
   "source": [
    "The easiest way to run the hbmcmc code is to copy the file hbmcmc_input_template.ini in acrg_hbmcmc/config/ to your run directory, and edit this code with your desired set up. \\\n",
    "The code generally explains the various inputs, but we will go through them below:"
   ]
  },
  {
   "cell_type": "raw",
   "metadata": {},
   "source": [
    "; Configuration file for HBMCMC code\n",
    "; Required inputs are marked as such.\n",
    "; All other inputs are optional (defaults will be used)\n",
    "\n",
    "[INPUT.MEASUREMENTS]\n",
    "; Input values for extracting observations\n",
    "; species (str) - species name (see acrg_species_info.json for options) e.g. \"ch4\"\n",
    "; sites (list) - site codes as a list (see acrg_site_info.json for options) e.g. [\"MHD\"]\n",
    "; meas_period (list) - Time periods for measurements as a list (must match length of sites)\n",
    "; start_date (str) - Start of observations to extract (format YYYY-MM-DD)\n",
    "; end_date (str) - End of observations to extract (format YYYY-MM-DD) (non-inclusive)\n",
    "\n",
    "species = ''      ; (required)\n",
    "sites = []        ; (required)\n",
    "meas_period = []  ; (required)\n",
    "start_date = ''   ; (required - but can be specified on command line instead)\n",
    "end_date = ''     ; (required - but can be specified on command line instead)"
   ]
  },
  {
   "cell_type": "markdown",
   "metadata": {},
   "source": [
    "**species** is a single string of the species you wish to do an inversion for, e.g. \"CH4\" or \"CFC-11\". As it says above, checkout out acrg_species_info.json for the various options currently available, or add your own if needed. \\\n",
    "**sites** is a list containing the sites you wish to use measurements from defined by their 3-letter code, e.g. [\"MHD\", \"TAC\"] for Mace Head and Tacolneston measurement sites. Again, as above, see acrg_site_info.json for options or add your own. \\\n",
    "**meas_period** is a list of the averaging you wish to apply to the measurements at the differnt sites. Often not much is gained by having many measurements made at really high frequency, especially as the footprints are rarely such high resolution. Instead we may wish to use a coarser frequency, e.g. every 6 hours, where all measurements made within a 6-hour period are averaged into a single measurement. A meas_period much be supplied in the list for each site, e.g. [\"6H\",\"6H\"]. \\\n",
    "**start_date** is when you want the inversion to begin, as a string (see above). \\\n",
    "**end_date** is when you want the inversion to end, as a string (see above). Note that the day is not included (e.g. \"2000-01-01\" would be until 23:59 on 1999-12-31) \\\n",
    "\n"
   ]
  },
  {
   "cell_type": "code",
   "execution_count": null,
   "metadata": {},
   "outputs": [],
   "source": [
    "; inlet (list/None) - Specific inlet height for the site (list - must match number of sites)\n",
    "; instrument (list/None) - Specific instrument for the site (list - must match number of sites)\n",
    "; obs_directory (str/None) - Directory containing the obs data (with site codes as subdirectories)\n",
    "\n",
    "inlet = None\n",
    "instrument = None\n",
    "obs_directory = None\n",
    "\n",
    "[INPUT.PRIORS]\n",
    "; Input values for extracting footprints, emissions and boundary conditions files (also uses values from INPUT.MEASUREMENTS)\n",
    "; domain (str) - Name of inversion spatial domain e.g. \"EUROPE\"\n",
    "; fpheight (dict/None) - Release height for footprints. e.g. fpheight = {\"TAC\":\"185m\"} (must match number of sites).\n",
    "; emissions_name (dict/None) - Name for specific emissions source. this should be a dictionary with {source_name: emissions_file_identifier} (e.g. {'anth':'co2-ff-mth'})\n",
    "; fp_directory (str/None) - Directory containing the footprints files (with domain name as subdirectories)\n",
    "; flux_directory (str/None) - Directory containing the emissions files (with domain name as subdirectories)\n",
    "\n",
    "domain = ''           ; (required) \n",
    "fpheight = None\n",
    "emissions_name = None\n",
    "fp_directory = None\n",
    "flux_directory = None\n",
    "\n",
    "[INPUT.BASIS_CASE]\n",
    "; Input values to extract the basis cases to use within the inversion for boundary conditions and emissions\n",
    "; bc_basis_case (str) - boundary conditions basis, defaults to \"NESW\" (looks for file format {bc_basis_case}_{domain}_*.nc)\n",
    "; fp_basis_case (str/None) - emissions bases:\n",
    "; - if specified, looks for file format {fp_basis_case}_{domain}_*.nc\n",
    "; - if None, creates basis function using quadtree algorithm and associated parameters\n",
    ";   - nbasis - Number of basis functions to use for quadtree derived basis function (rounded to %4)\n",
    "; basis_directory (str/None) - Directory containing the basis functions (with domain name as subdirectories)\n",
    "\n",
    "bc_basis_case = \"NESW\"\n",
    "\n",
    "fp_basis_case = None\n",
    "quadtree_basis = True\n",
    "nbasis = 100\n",
    "basis_directory = None\n",
    "\n",
    "[MCMC.TYPE]\n",
    "; Which MCMC setup to use. This defines the function which will be called and the expected inputs.\n",
    "; Options include:\n",
    "; \"fixed_basis\"\n",
    "\n",
    "mcmc_type = \"fixed_basis\"\n",
    "\n",
    "[MCMC.PDF]\n",
    "; Definitions of PDF shape and parameters for inputs\n",
    "; - xprior (dict) - emissions\n",
    "; - bcprior (dict) - boundary conditions\n",
    "; - sigprior (dict) - model error\n",
    "\n",
    "; Each of these inputs should be dictionary with the name of probability distribution and shape parameters.\n",
    "; See https://docs.pymc.io/api/distributions/continuous.html\n",
    "; Current options for the \"pdf\" parameter include:\n",
    "\n",
    "; - \"lognormal\" - Log-normal log-likelihood.\n",
    ";  - \"mu\" (float) - Location parameter\n",
    ";  - \"sd\" or \"sigma\" (float) - Standard deviation (> 0)\n",
    "; e.g. {\"pdf\":\"lognormal\", \"mu\":1, \"sd\":1}\n",
    "\n",
    "; - \"uniform\" - Continuous uniform log-likelihood.\n",
    ";  - \"lower\" (float) - Lower limit\n",
    ";  - \"upper\" (float) - Upper limit\n",
    "; e.g. {\"pdf\":\"uniform\", \"lower\":0.5, \"upper\":3}\n",
    "\n",
    "; - \"halfflat\" - Improper flat prior over the positive reals. (no additional parameters necessary)\n",
    "; e.g. {\"pdf\":\"halfflat\"}\n",
    "\n",
    "\n",
    "xprior = {\"pdf\":\"lognormal\", \"mu\":1, \"sd\":1}\n",
    "bcprior = {\"pdf\":\"lognormal\", \"mu\":0.004, \"sd\":0.02}\n",
    "sigprior = {\"pdf\":\"uniform\", \"lower\":0.5, \"upper\":3}\n",
    "\n",
    "\n",
    "[MCMC.BC_SPLIT]\n",
    "; Boundary conditions setup\n",
    "; - bc_freq - The period over which the baseline is estimated. e.g.\n",
    ";  - None - one scaling for the whole inversion\n",
    ";  - \"monthly\" - per calendar monthly\n",
    ";  - \"*D\" (e.g. \"30D\") - per number of days (e.g. 30 days)\n",
    "\n",
    "bc_freq = None\n",
    "sigma_freq = None\n",
    "sigma_per_site = True\n",
    "\n",
    "[MCMC.ITERATIONS]\n",
    "; Iteration parameters\n",
    "; nit (int) - Number of iterations for MCMC\n",
    "; burn (int) - Number of iterations to burn in MCMC\n",
    "; tune (int) - Number of iterations to use to tune step size\n",
    "\n",
    "nit = 2.5e5\n",
    "burn = 50000\n",
    "tune = 1.25e5\n",
    "\n",
    "[MCMC.NCHAIN]\n",
    "; Number of chains to run simultaneously. Must be >=2 to allow convergence to be checked.\n",
    "\n",
    "nchain = 2\n",
    "\n",
    "[MCMC.ADD_ERROR]\n",
    "; Add variability in averaging period to the measurement error\n",
    "\n",
    "averagingerror = True\n",
    "\n",
    "[MCMC.OUTPUT]\n",
    "; Details of where to write the output\n",
    "; outputpath (str) - directory to write output\n",
    "; outputname (str) - unique identifier for output/run name.\n",
    "\n",
    "outputpath = ''  ; (required)\n",
    "outputname = ''  ; (required)\n",
    "\n"
   ]
  },
  {
   "cell_type": "code",
   "execution_count": null,
   "metadata": {},
   "outputs": [],
   "source": []
  }
 ],
 "metadata": {
  "kernelspec": {
   "display_name": "Python 3",
   "language": "python",
   "name": "python3"
  },
  "language_info": {
   "codemirror_mode": {
    "name": "ipython",
    "version": 3
   },
   "file_extension": ".py",
   "mimetype": "text/x-python",
   "name": "python",
   "nbconvert_exporter": "python",
   "pygments_lexer": "ipython3",
   "version": "3.7.6"
  }
 },
 "nbformat": 4,
 "nbformat_minor": 4
}
